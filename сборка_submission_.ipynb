{
  "nbformat": 4,
  "nbformat_minor": 0,
  "metadata": {
    "colab": {
      "provenance": [],
      "mount_file_id": "131QdoZZzzV9Yd0UYuN9xnt5BudSQ1mkh",
      "authorship_tag": "ABX9TyPLDGZNrCxfYI597sl0xEWz",
      "include_colab_link": true
    },
    "kernelspec": {
      "name": "python3",
      "display_name": "Python 3"
    },
    "language_info": {
      "name": "python"
    }
  },
  "cells": [
    {
      "cell_type": "markdown",
      "metadata": {
        "id": "view-in-github",
        "colab_type": "text"
      },
      "source": [
        "<a href=\"https://colab.research.google.com/github/OVP2023/CV/blob/main/%D1%81%D0%B1%D0%BE%D1%80%D0%BA%D0%B0_submission_.ipynb\" target=\"_parent\"><img src=\"https://colab.research.google.com/assets/colab-badge.svg\" alt=\"Open In Colab\"/></a>"
      ]
    },
    {
      "cell_type": "code",
      "execution_count": 16,
      "metadata": {
        "id": "kVtqn1yvrNWD"
      },
      "outputs": [],
      "source": [
        "with open('submission.csv', 'w') as file_write:\n",
        "    with open('/content/drive/MyDrive/kreptonit/test_public/submission_0_5599.csv', 'r') as file_read1:\n",
        "\n",
        "        for line in file_read1:\n",
        "            file_write.write(line)\n",
        "\n",
        "with open('submission.csv', 'a') as file_append:\n",
        "    tr=1\n",
        "    with open('/content/drive/MyDrive/kreptonit/test_public/submission_5600_11572.csv', 'r') as file_read2:\n",
        "        for line in file_read2:\n",
        "            if (tr!=1):\n",
        "                file_append.write(line)\n",
        "            else:\n",
        "                tr=2\n",
        "\n",
        "    tr=1\n",
        "    with open('/content/drive/MyDrive/kreptonit/test_public/submission_11573_22189.csv', 'r') as file_read3:\n",
        "        for line in file_read3:\n",
        "            if (tr!=1):\n",
        "                file_append.write(line)\n",
        "            else:\n",
        "                tr=2\n",
        "\n"
      ]
    },
    {
      "cell_type": "code",
      "source": [
        "!head submission.csv"
      ],
      "metadata": {
        "colab": {
          "base_uri": "https://localhost:8080/"
        },
        "id": "Yc3YifQHvlS0",
        "outputId": "5a7e43b6-6129-4637-e559-c71ddc11892e"
      },
      "execution_count": 17,
      "outputs": [
        {
          "output_type": "stream",
          "name": "stdout",
          "text": [
            "pair_id,similarity\n",
            "0,1.0\n",
            "1,0.70222\n",
            "2,0.68014\n",
            "3,0.67095\n",
            "4,0.58335\n",
            "5,0.47398\n",
            "6,0.56463\n",
            "7,0.47532\n",
            "8,0.52089\n"
          ]
        }
      ]
    }
  ]
}